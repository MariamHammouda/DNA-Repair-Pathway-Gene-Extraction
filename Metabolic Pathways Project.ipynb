{
 "cells": [
  {
   "cell_type": "code",
   "execution_count": 1,
   "metadata": {},
   "outputs": [],
   "source": [
    "import cobra"
   ]
  },
  {
   "cell_type": "code",
   "execution_count": 2,
   "metadata": {},
   "outputs": [],
   "source": [
    "from cobra import*"
   ]
  },
  {
   "cell_type": "code",
   "execution_count": 3,
   "metadata": {},
   "outputs": [],
   "source": [
    "Pathways=Model(\"Pathways\")"
   ]
  },
  {
   "cell_type": "markdown",
   "metadata": {},
   "source": [
    "# Glycolysis pathway"
   ]
  },
  {
   "cell_type": "markdown",
   "metadata": {},
   "source": [
    "## ( GLUin Glucose import )→ Gluc"
   ]
  },
  {
   "cell_type": "code",
   "execution_count": 4,
   "metadata": {},
   "outputs": [],
   "source": [
    "GLUin=Reaction(\"GLUin\")\n",
    "GLUin.name='glucose'\n",
    "GLUin.lower_bound=1\n",
    "GLUin.upper_bound=1\n"
   ]
  },
  {
   "cell_type": "code",
   "execution_count": 5,
   "metadata": {},
   "outputs": [],
   "source": [
    "GLUc=Metabolite(\n",
    "    'GLUc',\n",
    "    formula='C6H12O6',\n",
    "    name='glucose',\n",
    "    compartment='c')"
   ]
  },
  {
   "cell_type": "code",
   "execution_count": 6,
   "metadata": {},
   "outputs": [],
   "source": [
    "GLUin.add_metabolites({GLUc:1})"
   ]
  },
  {
   "cell_type": "markdown",
   "metadata": {},
   "source": [
    "## ( HK Hexokinase ) Gluc + ATP → G6P + ADP + H+"
   ]
  },
  {
   "cell_type": "code",
   "execution_count": 7,
   "metadata": {},
   "outputs": [],
   "source": [
    "HK=Reaction(\"HK\")\n",
    "HK.name='Hexokines'\n",
    "HK.lower_bound=0\n",
    "HK.upper_bound=1000"
   ]
  },
  {
   "cell_type": "code",
   "execution_count": 8,
   "metadata": {},
   "outputs": [],
   "source": [
    "ATP=Metabolite(\n",
    "    'ATP',\n",
    "    formula='C10H16N5O13P3',\n",
    "    name='adenosine triphosphate',\n",
    "    compartment='c')\n",
    "\n",
    "ADP=Metabolite(\n",
    "    'ADP',\n",
    "    formula='C10H16N5O13P2',\n",
    "    name='Adenosine diphosphate',\n",
    "    compartment='c')\n",
    "\n",
    "G6P=Metabolite(\n",
    "    'G6P',\n",
    "    formula='C6H13O9',\n",
    "    name='Glucose 6 phosphate',\n",
    "    compartment='c')\n",
    "\n",
    "H=Metabolite(\n",
    "    'H',\n",
    "    formula='H',\n",
    "    name='Proton',\n",
    "    compartment='c')"
   ]
  },
  {
   "cell_type": "code",
   "execution_count": 9,
   "metadata": {},
   "outputs": [],
   "source": [
    "HK.add_metabolites({GLUc:-1,ATP:-1,G6P:1,ADP:1,H:1})"
   ]
  },
  {
   "cell_type": "markdown",
   "metadata": {},
   "source": [
    "## (PGI Glucose 6-phosphate isomerase) G6P ↔ F6P"
   ]
  },
  {
   "cell_type": "code",
   "execution_count": 10,
   "metadata": {},
   "outputs": [],
   "source": [
    "PGI=Reaction(\"PGI\")\n",
    "PGI.name='PGI'\n",
    "PGI.lower_bound=-1000\n",
    "PGI.upper_bound=1000"
   ]
  },
  {
   "cell_type": "code",
   "execution_count": 11,
   "metadata": {},
   "outputs": [],
   "source": [
    "F6P=Metabolite(\n",
    "    'F6P',\n",
    "    formula='C6H13O9P ',\n",
    "    name='Fructose 6-Phosphate ',\n",
    "    compartment='c')"
   ]
  },
  {
   "cell_type": "code",
   "execution_count": 12,
   "metadata": {},
   "outputs": [],
   "source": [
    "PGI.add_metabolites({G6P:-1,F6P:1})"
   ]
  },
  {
   "cell_type": "markdown",
   "metadata": {},
   "source": [
    "## ( PFK Phosphofructokinase ) F6P + ATP → FDP + ADP + H+"
   ]
  },
  {
   "cell_type": "code",
   "execution_count": 13,
   "metadata": {},
   "outputs": [],
   "source": [
    "PFK=Reaction(\"PFK\")\n",
    "PFK.name='PFK'\n",
    "PFK.lower_bound=0\n",
    "PFK.upper_bound=1000"
   ]
  },
  {
   "cell_type": "code",
   "execution_count": 14,
   "metadata": {},
   "outputs": [],
   "source": [
    "FDP=Metabolite(\n",
    "    'FDP',\n",
    "    formula='C6H14O12P2',\n",
    "    name='Fructose 1,6-diphosphate',\n",
    "    compartment='c')"
   ]
  },
  {
   "cell_type": "code",
   "execution_count": 15,
   "metadata": {},
   "outputs": [],
   "source": [
    "PFK.add_metabolites({F6P:-1,ATP:-1,FDP:1,ADP:1,H:1})"
   ]
  },
  {
   "cell_type": "markdown",
   "metadata": {},
   "source": [
    "## ( TPI Triose-phosphate isomerase ) DHAP ↔ GAP"
   ]
  },
  {
   "cell_type": "code",
   "execution_count": 16,
   "metadata": {},
   "outputs": [],
   "source": [
    "TPI=Reaction(\"TPI\")\n",
    "TPI.name='TPI'\n",
    "TPI.lower_bound=-1000\n",
    "TPI.upper_bound=1000"
   ]
  },
  {
   "cell_type": "code",
   "execution_count": 17,
   "metadata": {},
   "outputs": [],
   "source": [
    "GAP=Metabolite(\n",
    "    'GAP',\n",
    "    formula='C3H7O6P',\n",
    "    name='Glyceraldehyde 3-phosphate',\n",
    "    compartment='c')\n",
    "\n",
    "DHAP=Metabolite(\n",
    "    'DHAP',\n",
    "    formula='C3H7O6P',\n",
    "    name='Dihydroxyacetone phosphate',\n",
    "    compartment='c')"
   ]
  },
  {
   "cell_type": "code",
   "execution_count": 18,
   "metadata": {},
   "outputs": [],
   "source": [
    "TPI.add_metabolites({DHAP:-1,GAP:1})"
   ]
  },
  {
   "cell_type": "markdown",
   "metadata": {},
   "source": [
    "## ( ALD Fructose 1,6-diphosphate aldolase ) FDP ↔ DHAP + GAP"
   ]
  },
  {
   "cell_type": "code",
   "execution_count": 19,
   "metadata": {},
   "outputs": [],
   "source": [
    "ALD=Reaction(\"ALD\")\n",
    "ALD.name='ALD'\n",
    "ALD.lower_bound=-1000\n",
    "ALD.upper_bound=1000"
   ]
  },
  {
   "cell_type": "code",
   "execution_count": 20,
   "metadata": {},
   "outputs": [],
   "source": [
    "ALD.add_metabolites({FDP:-1,DHAP:1,GAP:1})"
   ]
  },
  {
   "cell_type": "markdown",
   "metadata": {},
   "source": [
    "## ( GAPDH Glyceraldehyde 3-phosphate dehydrogenase )\n",
    "## GAP + NAD + Pi ↔ DPG1,3 + NADH + H+"
   ]
  },
  {
   "cell_type": "code",
   "execution_count": 21,
   "metadata": {},
   "outputs": [],
   "source": [
    "GAPDH=Reaction(\"GAPDH\")\n",
    "GAPDH.name='GAPDH'\n",
    "GAPDH.lower_bound=-1000\n",
    "GAPDH.upper_bound=1000"
   ]
  },
  {
   "cell_type": "code",
   "execution_count": 22,
   "metadata": {},
   "outputs": [],
   "source": [
    "NAD=Metabolite(\n",
    "    'NAD',\n",
    "    formula='C21H27N7O14P2',\n",
    "    name='Nicotinamide adenine dinucleotide (oxidized)',\n",
    "    compartment='c')\n",
    "\n",
    "PI=Metabolite(\n",
    "    'PI',\n",
    "    formula='PO₄³⁻',\n",
    "    name='Inorganic phosphate',\n",
    "    compartment='c')\n",
    "\n",
    "NADH=Metabolite(\n",
    "    'NADH',\n",
    "    formula='C21H27N7O14P2 ',\n",
    "    name='Nicotinamide adenine dinucleotide (reduced)',\n",
    "    compartment='c')\n",
    "\n",
    "\n",
    "DPG13=Metabolite(\n",
    "    'DPG1,3',\n",
    "    formula='C3H6O10P2-2',\n",
    "    name='1,3-Diphosphoglycerate',\n",
    "    compartment='c')"
   ]
  },
  {
   "cell_type": "code",
   "execution_count": 23,
   "metadata": {},
   "outputs": [],
   "source": [
    "GAPDH.add_metabolites({GAP:-1,NAD:-1,PI:-1,DPG13:1,NADH:1,H:1})"
   ]
  },
  {
   "cell_type": "markdown",
   "metadata": {},
   "source": [
    "## ( PGK Phosphoglycerate kinase ) DPG1,3 + ADP ↔ PG3 + ATP"
   ]
  },
  {
   "cell_type": "code",
   "execution_count": 24,
   "metadata": {},
   "outputs": [],
   "source": [
    "PGK=Reaction(\"PGK\")\n",
    "PGK.name='PGK'\n",
    "PGK.lower_bound=-1000\n",
    "PGK.upper_bound=1000"
   ]
  },
  {
   "cell_type": "code",
   "execution_count": 25,
   "metadata": {},
   "outputs": [],
   "source": [
    "PG3=Metabolite(\n",
    "    'PG3',\n",
    "    formula='C3H7O7P',\n",
    "    name='3-Phosphoglycerate',\n",
    "    compartment='c')"
   ]
  },
  {
   "cell_type": "code",
   "execution_count": 26,
   "metadata": {},
   "outputs": [],
   "source": [
    "PGK.add_metabolites({DPG13:-1,ADP:-1,PG3:1,ATP:1})"
   ]
  },
  {
   "cell_type": "markdown",
   "metadata": {},
   "source": [
    "## ( PGLM Phosphoglycerate mutase ) PG3 ↔ PG2"
   ]
  },
  {
   "cell_type": "code",
   "execution_count": 27,
   "metadata": {},
   "outputs": [],
   "source": [
    "PGLM=Reaction(\"PGLM\")\n",
    "PGLM.name='PGLM'\n",
    "PGLM.lower_bound=-1000\n",
    "PGLM.upper_bound=1000"
   ]
  },
  {
   "cell_type": "code",
   "execution_count": 28,
   "metadata": {},
   "outputs": [],
   "source": [
    "PG2=Metabolite(\n",
    "    'PG2',\n",
    "    formula='C3H7O7P',\n",
    "    name='2-Phosphoglycerate',\n",
    "    compartment='c')"
   ]
  },
  {
   "cell_type": "code",
   "execution_count": 29,
   "metadata": {},
   "outputs": [],
   "source": [
    "PGLM.add_metabolites({PG3:-1,PG2:1})"
   ]
  },
  {
   "cell_type": "markdown",
   "metadata": {},
   "source": [
    "## ( ENO Enolase ) PG2 ↔ PEP + H2O"
   ]
  },
  {
   "cell_type": "code",
   "execution_count": 30,
   "metadata": {},
   "outputs": [],
   "source": [
    "ENO=Reaction(\"ENO\")\n",
    "ENO.name='ENO'\n",
    "ENO.lower_bound=-1000\n",
    "ENO.upper_bound=1000"
   ]
  },
  {
   "cell_type": "code",
   "execution_count": 31,
   "metadata": {},
   "outputs": [],
   "source": [
    "PEP=Metabolite(\n",
    "    'PEP',\n",
    "    formula='C3H5O6P ',\n",
    "    name='Phosphoenolpyruvate',\n",
    "    compartment='c')\n",
    "\n",
    "H2O=Metabolite(\n",
    "    'H2O',\n",
    "    formula='H2O',\n",
    "    name='Water',\n",
    "    compartment='c')"
   ]
  },
  {
   "cell_type": "code",
   "execution_count": 32,
   "metadata": {},
   "outputs": [],
   "source": [
    "ENO.add_metabolites({PG2:-1,PEP:1,H2O:1})"
   ]
  },
  {
   "cell_type": "markdown",
   "metadata": {},
   "source": [
    "## ( PK Pyruvate kinase ) PEP + ADP + H+ → PYR + ATP"
   ]
  },
  {
   "cell_type": "code",
   "execution_count": 33,
   "metadata": {},
   "outputs": [],
   "source": [
    "PK=Reaction(\"PK\")\n",
    "PK.name='PK'\n",
    "PK.lower_bound=0\n",
    "PK.upper_bound=1000"
   ]
  },
  {
   "cell_type": "code",
   "execution_count": 34,
   "metadata": {},
   "outputs": [],
   "source": [
    "PYR=Metabolite(\n",
    "    'PYR',\n",
    "    formula='C3H4O3 ',\n",
    "    name='Pyruvate',\n",
    "    compartment='c')"
   ]
  },
  {
   "cell_type": "code",
   "execution_count": 35,
   "metadata": {},
   "outputs": [],
   "source": [
    "PK.add_metabolites({PEP:-1,ADP:-1,H:-1,PYR:1,ATP:1})"
   ]
  },
  {
   "cell_type": "markdown",
   "metadata": {},
   "source": [
    "## ( LDH Lactate dehydrogenase ) PYR + NADH + H+ ↔ LAC + NAD"
   ]
  },
  {
   "cell_type": "code",
   "execution_count": 36,
   "metadata": {},
   "outputs": [],
   "source": [
    "LDH=Reaction(\"LDH\")\n",
    "LDH.name='LDH'\n",
    "LDH.lower_bound=-1000\n",
    "LDH.upper_bound=1000"
   ]
  },
  {
   "cell_type": "code",
   "execution_count": 37,
   "metadata": {},
   "outputs": [],
   "source": [
    "LAC=Metabolite(\n",
    "    'LAC',\n",
    "    formula='C3H6O3 ',\n",
    "    name='Lactate',\n",
    "    compartment='c')"
   ]
  },
  {
   "cell_type": "code",
   "execution_count": 38,
   "metadata": {},
   "outputs": [],
   "source": [
    "LDH.add_metabolites({PYR:-1,NADH:-1,H:-1,LAC:1,NAD:1})"
   ]
  },
  {
   "cell_type": "markdown",
   "metadata": {},
   "source": [
    "## ( AMPin AMP import )→ AMP"
   ]
  },
  {
   "cell_type": "code",
   "execution_count": 39,
   "metadata": {},
   "outputs": [],
   "source": [
    "AMPin=Reaction(\"AMPin\")\n",
    "AMPin.name='AMPin'\n",
    "AMPin.lower_bound=1\n",
    "AMPin.upper_bound=1"
   ]
  },
  {
   "cell_type": "code",
   "execution_count": 40,
   "metadata": {},
   "outputs": [],
   "source": [
    "AMP=Metabolite(\n",
    "    'AMP',\n",
    "    formula='C10H14N5O7P',\n",
    "    name='Adenosine mono-phosphate',\n",
    "    compartment='c')"
   ]
  },
  {
   "cell_type": "code",
   "execution_count": 41,
   "metadata": {},
   "outputs": [],
   "source": [
    "AMPin.add_metabolites({AMP:1})"
   ]
  },
  {
   "cell_type": "markdown",
   "metadata": {},
   "source": [
    "## ( AMP AMP export ) AMP →"
   ]
  },
  {
   "cell_type": "code",
   "execution_count": 42,
   "metadata": {},
   "outputs": [],
   "source": [
    "AMPout=Reaction(\"AMPout\")\n",
    "AMPout.name='AMPout'\n",
    "AMPout.lower_bound=0\n",
    "AMPout.upper_bound=1000"
   ]
  },
  {
   "cell_type": "code",
   "execution_count": 43,
   "metadata": {},
   "outputs": [],
   "source": [
    "AMPout.add_metabolites({AMP:-1})"
   ]
  },
  {
   "cell_type": "markdown",
   "metadata": {},
   "source": [
    "## ( APK Adenylate kinase ) 2ADP ↔ AMP + ATP"
   ]
  },
  {
   "cell_type": "code",
   "execution_count": 44,
   "metadata": {},
   "outputs": [],
   "source": [
    "APK=Reaction(\"APK\")\n",
    "APK.name='APK'\n",
    "APK.lower_bound=-1000\n",
    "APK.upper_bound=1000"
   ]
  },
  {
   "cell_type": "code",
   "execution_count": 45,
   "metadata": {},
   "outputs": [],
   "source": [
    "APK.add_metabolites({ADP:-2,AMP:1,ATP:1})"
   ]
  },
  {
   "cell_type": "markdown",
   "metadata": {},
   "source": [
    "## (ATP hydrolysis ) ATP + H2O → ADP + Pi + H+"
   ]
  },
  {
   "cell_type": "code",
   "execution_count": 46,
   "metadata": {},
   "outputs": [],
   "source": [
    "ATPhydrolysis=Reaction(\"ATPhydrolysis\")\n",
    "ATPhydrolysis.name='ATPhydrolysis'\n",
    "ATPhydrolysis.lower_bound=0\n",
    "ATPhydrolysis.upper_bound=1000"
   ]
  },
  {
   "cell_type": "code",
   "execution_count": 47,
   "metadata": {},
   "outputs": [],
   "source": [
    "ATPhydrolysis.add_metabolites({ATP:-1,H2O:-1,ADP:1,PI:1,H:1})"
   ]
  },
  {
   "cell_type": "markdown",
   "metadata": {},
   "source": [
    "## ( NADH oxidation ) NADH → NAD + H+"
   ]
  },
  {
   "cell_type": "code",
   "execution_count": 48,
   "metadata": {},
   "outputs": [],
   "source": [
    "NADHoxidation=Reaction(\"NADHoxidation\")\n",
    "NADHoxidation.name='NADHoxidation'\n",
    "NADHoxidation.lower_bound=0\n",
    "NADHoxidation.upper_bound=1000"
   ]
  },
  {
   "cell_type": "code",
   "execution_count": 49,
   "metadata": {},
   "outputs": [],
   "source": [
    "NADHoxidation.add_metabolites({NADH:-1,NAD:1,H:1})"
   ]
  },
  {
   "cell_type": "markdown",
   "metadata": {},
   "source": [
    "# Pentose pathway "
   ]
  },
  {
   "cell_type": "markdown",
   "metadata": {},
   "source": [
    "## ( G6PDH ) G6P dehydrogenase G6P+NADP → GL6P+NADPH + H"
   ]
  },
  {
   "cell_type": "code",
   "execution_count": 50,
   "metadata": {},
   "outputs": [],
   "source": [
    "G6PDH=Reaction(\"G6PDH\")\n",
    "G6PDH.name='6-Phosphogluconolactone'\n",
    "G6PDH.lower_bound=0\n",
    "G6PDH.upper_bound=1000"
   ]
  },
  {
   "cell_type": "code",
   "execution_count": 51,
   "metadata": {},
   "outputs": [],
   "source": [
    "NADP=Metabolite(\n",
    "    'NADP',\n",
    "    formula='C21H27N7O14P2 ',\n",
    "    name='Nicotinamide adenine dinucleotide phosphate (oxidized)',\n",
    "    compartment='c')\n",
    "\n",
    "GL6P=Metabolite(\n",
    "    'GL6P',\n",
    "    formula='C21H27N7O14P2 ',\n",
    "    name='6-Phosphogluconolactone',\n",
    "    compartment='c')\n",
    "\n",
    "NADPH=Metabolite(\n",
    "    'NADPH',\n",
    "    formula='C21H29N7O17P3 ',\n",
    "    name='Nicotinamide adenine',\n",
    "    compartment='c')"
   ]
  },
  {
   "cell_type": "code",
   "execution_count": 52,
   "metadata": {},
   "outputs": [],
   "source": [
    "G6PDH.add_metabolites({G6P:-1,NADP:-1,GL6P:1,NADPH:1,H:1})"
   ]
  },
  {
   "cell_type": "markdown",
   "metadata": {},
   "source": [
    "## ( PGLase ) 6-Phosphogluconolactonase GL6P+H2O →GO6P + H"
   ]
  },
  {
   "cell_type": "code",
   "execution_count": 53,
   "metadata": {},
   "outputs": [],
   "source": [
    "PGLase=Reaction(\"PGLase\")\n",
    "PGLase.name='6-Phosphogluconolactonase'\n",
    "PGLase.lower_bound=0\n",
    "PGLase.upper_bound=1000"
   ]
  },
  {
   "cell_type": "code",
   "execution_count": 54,
   "metadata": {},
   "outputs": [],
   "source": [
    "GO6P=Metabolite(\n",
    "    'GO6P',\n",
    "    formula='H2O',\n",
    "    name='6-Phosphoglyconate',\n",
    "    compartment='c')"
   ]
  },
  {
   "cell_type": "code",
   "execution_count": 55,
   "metadata": {},
   "outputs": [],
   "source": [
    "PGLase.add_metabolites({GL6P:-1,H2O:-1,GO6P:1,H:1})"
   ]
  },
  {
   "cell_type": "markdown",
   "metadata": {},
   "source": [
    "## ( GL6PDH ) GO6P dehydrogenase GO6P+NADP→ RU5P+NADPH+CO2"
   ]
  },
  {
   "cell_type": "code",
   "execution_count": 56,
   "metadata": {},
   "outputs": [],
   "source": [
    "GL6PHD=Reaction(\"GL6PHD\")\n",
    "GL6PHD.name='6-Phosphogluconolactonase'\n",
    "GL6PHD.lower_bound=0\n",
    "GL6PHD.upper_bound=1000"
   ]
  },
  {
   "cell_type": "code",
   "execution_count": 57,
   "metadata": {},
   "outputs": [],
   "source": [
    "RU5P=Metabolite(\n",
    "    'RU5P',\n",
    "    formula='C5H11O8P',\n",
    "    name='Ribulose 5-phosphate',\n",
    "    compartment='c')\n",
    "\n",
    "CO2=Metabolite(\n",
    "    'CO2',\n",
    "    formula='CO2',\n",
    "    name='Carbon dioxide',\n",
    "    compartment='c')"
   ]
  },
  {
   "cell_type": "code",
   "execution_count": 58,
   "metadata": {},
   "outputs": [],
   "source": [
    "GL6PHD.add_metabolites({GO6P:-1,NADP:-1,RU5P:1,NADPH:1,CO2:1})"
   ]
  },
  {
   "cell_type": "markdown",
   "metadata": {},
   "source": [
    "## ( R5PE ) X5P epimerase RU5P ↔ X5P"
   ]
  },
  {
   "cell_type": "code",
   "execution_count": 59,
   "metadata": {},
   "outputs": [],
   "source": [
    "R5PE=Reaction(\"R5PE\")\n",
    "R5PE.name='6-Phosphogluconolactonase'\n",
    "R5PE.lower_bound=-1000\n",
    "R5PE.upper_bound=1000"
   ]
  },
  {
   "cell_type": "code",
   "execution_count": 60,
   "metadata": {},
   "outputs": [],
   "source": [
    "X5P=Metabolite(\n",
    "    'X5P',\n",
    "    formula='C5H11O8P',\n",
    "    name='Xylose 5-phosphate',\n",
    "    compartment='c')"
   ]
  },
  {
   "cell_type": "code",
   "execution_count": 61,
   "metadata": {},
   "outputs": [],
   "source": [
    "R5PE.add_metabolites({RU5P:-1,X5P:1})"
   ]
  },
  {
   "cell_type": "markdown",
   "metadata": {},
   "source": [
    "## ( R5PI ) R5P isomerase RU5P  ↔  R5P"
   ]
  },
  {
   "cell_type": "code",
   "execution_count": 62,
   "metadata": {},
   "outputs": [],
   "source": [
    "R5PI=Reaction(\"R5PI\")\n",
    "R5PI.name='6-Phosphogluconolactonase'\n",
    "R5PI.lower_bound=-1000\n",
    "R5PI.upper_bound=1000"
   ]
  },
  {
   "cell_type": "code",
   "execution_count": 63,
   "metadata": {},
   "outputs": [],
   "source": [
    "R5P=Metabolite(\n",
    "    'R5P',\n",
    "    formula='C5H11O8P',\n",
    "    name='Ribose 5-phosphate',\n",
    "    compartment='c')"
   ]
  },
  {
   "cell_type": "code",
   "execution_count": 64,
   "metadata": {},
   "outputs": [],
   "source": [
    "R5PI.add_metabolites({RU5P:-1,R5P:1})"
   ]
  },
  {
   "cell_type": "markdown",
   "metadata": {},
   "source": [
    "## ( TKI ) Transketolase I X5P+R5P ↔ S7P + GAP"
   ]
  },
  {
   "cell_type": "code",
   "execution_count": 65,
   "metadata": {},
   "outputs": [],
   "source": [
    "TKI=Reaction(\"TKI\")\n",
    "TKI.name='6-Phosphogluconolactonase'\n",
    "TKI.lower_bound=-1000\n",
    "TKI.upper_bound=1000"
   ]
  },
  {
   "cell_type": "code",
   "execution_count": 66,
   "metadata": {},
   "outputs": [],
   "source": [
    "S7P=Metabolite(\n",
    "    'S7P',\n",
    "    formula='C5H11O8P',\n",
    "    name='Sedoheptulose 7-phosphate',\n",
    "    compartment='c')\n",
    "\n",
    "GAP=Metabolite(\n",
    "    'GAP',\n",
    "    formula='C5H11O8P',\n",
    "    name='Sedoheptulose 7-phosphate',\n",
    "    compartment='c')"
   ]
  },
  {
   "cell_type": "code",
   "execution_count": 67,
   "metadata": {},
   "outputs": [],
   "source": [
    "TKI.add_metabolites({X5P:-1,R5P:-1,S7P:1,GAP:1})"
   ]
  },
  {
   "cell_type": "markdown",
   "metadata": {},
   "source": [
    "## ( TKII ) Transketolase II X5P+E4P ↔ F6P+GAP"
   ]
  },
  {
   "cell_type": "code",
   "execution_count": 68,
   "metadata": {},
   "outputs": [],
   "source": [
    "TKII=Reaction(\"TKII\")\n",
    "TKII.name='6-Phosphogluconolactonase'\n",
    "TKII.lower_bound=-1000\n",
    "TKII.upper_bound=1000"
   ]
  },
  {
   "cell_type": "code",
   "execution_count": 69,
   "metadata": {},
   "outputs": [],
   "source": [
    "E4P=Metabolite(\n",
    "    'E4P',\n",
    "    formula='C5H11O8P',\n",
    "    name='Erythrose 4-phosphate',\n",
    "    compartment='c')\n",
    "\n",
    "F6P=Metabolite(\n",
    "    'F6P',\n",
    "    formula='C6H13O9P',\n",
    "    name='Erythrose 4-phosphate',\n",
    "    compartment='c')"
   ]
  },
  {
   "cell_type": "code",
   "execution_count": 70,
   "metadata": {},
   "outputs": [],
   "source": [
    "TKII.add_metabolites({X5P:-1,E4P:-1,F6P:1,GAP:1})"
   ]
  },
  {
   "cell_type": "markdown",
   "metadata": {},
   "source": [
    "## ( TALA ) Transaldolase S7P+GAP ↔  E4P+ F6P"
   ]
  },
  {
   "cell_type": "code",
   "execution_count": 71,
   "metadata": {},
   "outputs": [],
   "source": [
    "TALA=Reaction(\"TALA\")\n",
    "TALA.name='6-Phosphogluconolactonase'\n",
    "TALA.lower_bound=-1000\n",
    "TALA.upper_bound=1000"
   ]
  },
  {
   "cell_type": "code",
   "execution_count": 72,
   "metadata": {},
   "outputs": [],
   "source": [
    "TALA.add_metabolites({S7P:-1,GAP:-1,E4P:1,F6P:1})"
   ]
  },
  {
   "cell_type": "markdown",
   "metadata": {},
   "source": [
    "## ( GSSGR ) Glutathione reductase GSSG+NADPH+H ↔ 2GSH + NADP"
   ]
  },
  {
   "cell_type": "code",
   "execution_count": 73,
   "metadata": {},
   "outputs": [],
   "source": [
    "GSSGR=Reaction(\"GSSGR\")\n",
    "GSSGR.name='6-Phosphogluconolactonase'\n",
    "GSSGR.lower_bound=-1000\n",
    "GSSGR.upper_bound=1000"
   ]
  },
  {
   "cell_type": "code",
   "execution_count": 74,
   "metadata": {},
   "outputs": [],
   "source": [
    "GSSG=Metabolite(\n",
    "    'GSSG',\n",
    "    formula='C6H13O9P',\n",
    "    name='Glutathione (oxidized)',\n",
    "    compartment='c')\n",
    "\n",
    "GSH=Metabolite(\n",
    "    'GSH',\n",
    "    formula='C6H13O9P',\n",
    "    name='Glutathione (reduced)',\n",
    "    compartment='c')"
   ]
  },
  {
   "cell_type": "code",
   "execution_count": 75,
   "metadata": {},
   "outputs": [],
   "source": [
    "GSSGR.add_metabolites({GSSG:-1,NADPH:-1,H:-1,GSH:2,NADP:1})"
   ]
  },
  {
   "cell_type": "markdown",
   "metadata": {},
   "source": [
    "## ( GSHR ) Glutathione oxidase 2GSH ↔ GSSG + 2H"
   ]
  },
  {
   "cell_type": "code",
   "execution_count": 76,
   "metadata": {},
   "outputs": [],
   "source": [
    "GSHR=Reaction(\"GSHR\")\n",
    "GSHR.name='6-Phosphogluconolactonase'\n",
    "GSHR.lower_bound=-1000\n",
    "GSHR.upper_bound=1000"
   ]
  },
  {
   "cell_type": "code",
   "execution_count": 77,
   "metadata": {},
   "outputs": [],
   "source": [
    "GSHR.add_metabolites({GSH:-2,GSSG:1,H:2})"
   ]
  },
  {
   "cell_type": "markdown",
   "metadata": {},
   "source": [
    "# Convert Pyruvate to Acetyl_COA Before TCA Cycle or Fermentation"
   ]
  },
  {
   "cell_type": "markdown",
   "metadata": {},
   "source": [
    "## PYR + NAD + COA ↔ Acetyl_COA + CO2 + NADH"
   ]
  },
  {
   "cell_type": "code",
   "execution_count": 78,
   "metadata": {},
   "outputs": [],
   "source": [
    "Pyruvate_dehydrogenase_complex=Reaction('Pyruvate_dehydrogenase_complex')\n",
    "Pyruvate_dehydrogenase_complex.name='Pyruvate dehydrogenase complex'\n",
    "Pyruvate_dehydrogenase_complex.lower_bound=-1000\n",
    "Pyruvate_dehydrogenase_complex.upper_bound=1000"
   ]
  },
  {
   "cell_type": "code",
   "execution_count": 79,
   "metadata": {},
   "outputs": [],
   "source": [
    "CoA=Metabolite(\n",
    "    'CoA',\n",
    "    name= \"CoA\",\n",
    "    formula=\"C21H36N7O16P3S\",\n",
    "    compartment='c')\n",
    "\n",
    "Acetyl_CoA=Metabolite(\n",
    "    'Acetyl_CoA',\n",
    "    name= \"Acetyl CoA\",\n",
    "    formula=\"C23H38N7O17P3S\",\n",
    "    compartment='c')"
   ]
  },
  {
   "cell_type": "code",
   "execution_count": 80,
   "metadata": {},
   "outputs": [],
   "source": [
    "Pyruvate_dehydrogenase_complex.add_metabolites({PYR:-1,NAD:-1,CoA:-1,Acetyl_CoA:1,CO2:1,NADH:1})"
   ]
  },
  {
   "cell_type": "markdown",
   "metadata": {},
   "source": [
    "# Acetate Fermentation"
   ]
  },
  {
   "cell_type": "markdown",
   "metadata": {},
   "source": [
    "#   Acetyl-CoA + phosphate → Acetyl-phosphate + CoA"
   ]
  },
  {
   "cell_type": "code",
   "execution_count": 81,
   "metadata": {},
   "outputs": [],
   "source": [
    "PTAr=Reaction(\"PTAr\")\n",
    "PTAr.name='Phosphotransacetylase'\n",
    "PTAr.lower_bound=-1000\n",
    "PTAr.upper_bound=1000"
   ]
  },
  {
   "cell_type": "code",
   "execution_count": 82,
   "metadata": {},
   "outputs": [],
   "source": [
    "actp=Metabolite(\n",
    "    'Acetyl_phosphate',\n",
    "    name= \"Acetyl phosphate\",\n",
    "    formula=\"C2H3O5P\",\n",
    "    compartment='c')\n"
   ]
  },
  {
   "cell_type": "code",
   "execution_count": 83,
   "metadata": {},
   "outputs": [],
   "source": [
    "PTAr.add_metabolites({Acetyl_CoA:-1,PI:-1,CoA:-1,actp:1})"
   ]
  },
  {
   "cell_type": "markdown",
   "metadata": {},
   "source": [
    "#  Acetyl-phosphate + ADP → Acetate + ATP"
   ]
  },
  {
   "cell_type": "code",
   "execution_count": 84,
   "metadata": {},
   "outputs": [],
   "source": [
    "ACK=Reaction(\"ACK\")\n",
    "ACK.name='Acetate kinase'\n",
    "ACK.lower_bound=-1000\n",
    "ACK.upper_bound=1000"
   ]
  },
  {
   "cell_type": "code",
   "execution_count": 85,
   "metadata": {},
   "outputs": [],
   "source": [
    "ac=Metabolite(\n",
    "    'Acetate',\n",
    "    name= \"Acetate\",\n",
    "    formula=\"C2H3O2\",\n",
    "    compartment='c')"
   ]
  },
  {
   "cell_type": "code",
   "execution_count": 86,
   "metadata": {},
   "outputs": [],
   "source": [
    "ACK.add_metabolites({actp:-1,ADP:-1,ac:1,ATP:1})"
   ]
  },
  {
   "cell_type": "markdown",
   "metadata": {},
   "source": [
    "# TCA Cycle Reactions"
   ]
  },
  {
   "cell_type": "markdown",
   "metadata": {},
   "source": [
    "## Acetyl_COA + Oxaloacetate + H2O↔Citrate + CoA"
   ]
  },
  {
   "cell_type": "code",
   "execution_count": 87,
   "metadata": {},
   "outputs": [],
   "source": [
    "Citrate_synthase=Reaction('Citrate_synthase')\n",
    "Citrate_synthase.name='Citrate synthase'\n",
    "Citrate_synthase.lower_bound=-1000\n",
    "Citrate_synthase.upper_bound=1000"
   ]
  },
  {
   "cell_type": "code",
   "execution_count": 88,
   "metadata": {},
   "outputs": [],
   "source": [
    "Oxaloacetate=Metabolite(\n",
    "    'Oxaloacetate',\n",
    "    name= \"Oxaloacetate\",\n",
    "    formula=\"C4H4O5\",\n",
    "    compartment='c')\n",
    "\n",
    "Citrate=Metabolite(\n",
    "    'Citrate',\n",
    "    name= \"Citrate\",\n",
    "    formula=\"C6H8O7\",\n",
    "    compartment='c')\n",
    "\n",
    "\n",
    "\n",
    "# Metabolic pathway \n",
    "#"
   ]
  },
  {
   "cell_type": "code",
   "execution_count": 89,
   "metadata": {},
   "outputs": [],
   "source": [
    "Citrate_synthase.add_metabolites({Acetyl_CoA:-1,Oxaloacetate:-1,H2O:-1,Citrate:1,CoA:1})"
   ]
  },
  {
   "cell_type": "markdown",
   "metadata": {},
   "source": [
    "## Citrate ↔ Isocitrate"
   ]
  },
  {
   "cell_type": "code",
   "execution_count": 90,
   "metadata": {},
   "outputs": [],
   "source": [
    "Aconitase=Reaction('Aconitase')\n",
    "Aconitase.name='Aconitase'\n",
    "Aconitase.lower_bound=-1000\n",
    "Aconitase.upper_bound=1000"
   ]
  },
  {
   "cell_type": "code",
   "execution_count": 91,
   "metadata": {},
   "outputs": [],
   "source": [
    "Isocitrate=Metabolite(\n",
    "    'Isocitrate',\n",
    "    name= \"Isocitrate\",\n",
    "    formula=\"C6H8O7\",\n",
    "    compartment='c')"
   ]
  },
  {
   "cell_type": "code",
   "execution_count": 92,
   "metadata": {},
   "outputs": [],
   "source": [
    "Aconitase.add_metabolites({Citrate:-1,Isocitrate:1})"
   ]
  },
  {
   "cell_type": "markdown",
   "metadata": {},
   "source": [
    "## Isocitrate + NAD↔ α_Ketoglutarate + CO2 + NADH + H"
   ]
  },
  {
   "cell_type": "code",
   "execution_count": 93,
   "metadata": {},
   "outputs": [],
   "source": [
    "Isocitrate_dehydrogenase=Reaction('Isocitrate_dehydrogenase')\n",
    "Isocitrate_dehydrogenase.name='Isocitrate dehydrogenase'\n",
    "Isocitrate_dehydrogenase.lower_bound=-1000\n",
    "Isocitrate_dehydrogenase.upper_bound=1000"
   ]
  },
  {
   "cell_type": "code",
   "execution_count": 94,
   "metadata": {},
   "outputs": [],
   "source": [
    "α_Ketoglutarate=Metabolite(\n",
    "    'α_Ketoglutarate',\n",
    "    name= \"α_Ketoglutarate\",\n",
    "    formula=\"C5H6O5\",\n",
    "    compartment='c')"
   ]
  },
  {
   "cell_type": "code",
   "execution_count": 95,
   "metadata": {},
   "outputs": [],
   "source": [
    "Isocitrate_dehydrogenase.add_metabolites({Isocitrate:-1,NAD:-1,α_Ketoglutarate:1,CO2:1,NADH:1,H:1})"
   ]
  },
  {
   "cell_type": "markdown",
   "metadata": {},
   "source": [
    "## α_Ketoglutarate + NAD + CoA↔ Succinyl_CoA + CO2 + NADH + H"
   ]
  },
  {
   "cell_type": "code",
   "execution_count": 96,
   "metadata": {},
   "outputs": [],
   "source": [
    "α_Ketoglutarate_dehydrogenase=Reaction('α_Ketoglutarate_dehydrogenase')\n",
    "α_Ketoglutarate_dehydrogenase.name='α_Ketoglutarate_dehydrogenase'\n",
    "α_Ketoglutarate_dehydrogenase.lower_bound=-1000\n",
    "α_Ketoglutarate_dehydrogenase.upper_bound=1000"
   ]
  },
  {
   "cell_type": "code",
   "execution_count": 97,
   "metadata": {},
   "outputs": [],
   "source": [
    "Succinyl_CoA=Metabolite(\n",
    "    'Succinyl_CoA',\n",
    "    name= \"Succinyl_CoA\",\n",
    "    formula=\"C25H40N7O19P3S\",\n",
    "    compartment='c')"
   ]
  },
  {
   "cell_type": "code",
   "execution_count": 98,
   "metadata": {},
   "outputs": [],
   "source": [
    "α_Ketoglutarate_dehydrogenase.add_metabolites({CoA:-1,NAD:-1,α_Ketoglutarate:-1,Succinyl_CoA:1,CO2:1,NADH:1,H:1})"
   ]
  },
  {
   "cell_type": "markdown",
   "metadata": {},
   "source": [
    "## Succinyl_CoA + ADP + Pi↔ Succinate + CoA + ATP"
   ]
  },
  {
   "cell_type": "code",
   "execution_count": 99,
   "metadata": {},
   "outputs": [],
   "source": [
    "Succinyl_CoA_synthetase=Reaction('Succinyl_CoA_synthetase')\n",
    "Succinyl_CoA_synthetase.name='Succinyl_CoA_synthetase'\n",
    "Succinyl_CoA_synthetase.lower_bound=-1000\n",
    "Succinyl_CoA_synthetase.upper_bound=1000"
   ]
  },
  {
   "cell_type": "code",
   "execution_count": 100,
   "metadata": {},
   "outputs": [],
   "source": [
    "Succinate=Metabolite(\n",
    "    'Succinate',\n",
    "    name= \"Succinate\",\n",
    "    formula=\"C4H6O4\",\n",
    "    compartment='c')"
   ]
  },
  {
   "cell_type": "code",
   "execution_count": 101,
   "metadata": {},
   "outputs": [],
   "source": [
    "Succinyl_CoA_synthetase.add_metabolites({Succinyl_CoA:-1,ADP:-1,PI:-1,Succinate:1,CoA:1,ATP:1})"
   ]
  },
  {
   "cell_type": "markdown",
   "metadata": {},
   "source": [
    "## Succinate + FAD + Pi ↔ Fumarate + FADH2"
   ]
  },
  {
   "cell_type": "code",
   "execution_count": 102,
   "metadata": {},
   "outputs": [],
   "source": [
    "Succinate_dehydrogenase=Reaction('Succinate_dehydrogenase')\n",
    "Succinate_dehydrogenase.name='Succinate dehydrogenase'\n",
    "Succinate_dehydrogenase.lower_bound=-1000\n",
    "Succinate_dehydrogenase.upper_bound=1000"
   ]
  },
  {
   "cell_type": "code",
   "execution_count": 103,
   "metadata": {},
   "outputs": [],
   "source": [
    "FAD=Metabolite(\n",
    "    'FAD',\n",
    "    name= \"flavin adenine dinucleotide \",\n",
    "    formula=\"C27H33N9O15P2\",\n",
    "    compartment='c')\n",
    "\n",
    "FADH2=Metabolite(\n",
    "    'FADH2',\n",
    "    name= \"flavin adenine dinucleotidee (reduced)\",\n",
    "    formula=\"C27H33N9O15P2\",\n",
    "    compartment='c')\n",
    "\n",
    "Fumarate=Metabolite(\n",
    "    'Fumarate',\n",
    "    name= \"Fumarate\",\n",
    "    formula=\"C4H4O4\",\n",
    "    compartment='c')"
   ]
  },
  {
   "cell_type": "code",
   "execution_count": 104,
   "metadata": {},
   "outputs": [],
   "source": [
    "Succinate_dehydrogenase.add_metabolites({Succinate:-1,FAD:-1,PI:-1,Fumarate:1,FADH2:1})"
   ]
  },
  {
   "cell_type": "markdown",
   "metadata": {},
   "source": [
    "## Fumarate + H2O ↔ L_Malate"
   ]
  },
  {
   "cell_type": "code",
   "execution_count": 105,
   "metadata": {},
   "outputs": [],
   "source": [
    "Fumarase=Reaction('Fumarase')\n",
    "Fumarase.name='Fumarase'\n",
    "Fumarase.lower_bound=-1000\n",
    "Fumarase.upper_bound=1000"
   ]
  },
  {
   "cell_type": "code",
   "execution_count": 106,
   "metadata": {},
   "outputs": [],
   "source": [
    "L_Malate=Metabolite(\n",
    "    'L_Malate',\n",
    "    name= \"L_Malate\",\n",
    "    formula=\"C4H6O5\",\n",
    "    compartment='c')"
   ]
  },
  {
   "cell_type": "code",
   "execution_count": 107,
   "metadata": {},
   "outputs": [],
   "source": [
    "Fumarase.add_metabolites({Fumarate:-1,H2O:-1,L_Malate:1})"
   ]
  },
  {
   "cell_type": "markdown",
   "metadata": {},
   "source": [
    "## L_Malate + NAD ↔ Oxaloacetate + NADH + H"
   ]
  },
  {
   "cell_type": "code",
   "execution_count": 108,
   "metadata": {},
   "outputs": [],
   "source": [
    "Malate_dehydrogenase=Reaction('Malate_dehydrogenase')\n",
    "Malate_dehydrogenase.name='Fumarase'\n",
    "Malate_dehydrogenase.lower_bound=-1000\n",
    "Malate_dehydrogenase.upper_bound=1000"
   ]
  },
  {
   "cell_type": "code",
   "execution_count": 109,
   "metadata": {},
   "outputs": [],
   "source": [
    "Malate_dehydrogenase.add_metabolites({L_Malate:-1,NAD:-1,Oxaloacetate:1,NADH:1,H:1})"
   ]
  },
  {
   "cell_type": "markdown",
   "metadata": {},
   "source": [
    "# Oxidative phosphorylation Pathway"
   ]
  },
  {
   "cell_type": "markdown",
   "metadata": {},
   "source": [
    "## Q + 5H + NADH  → QH2 + 4H + NAD"
   ]
  },
  {
   "cell_type": "code",
   "execution_count": 110,
   "metadata": {},
   "outputs": [],
   "source": [
    "Complex_I=Reaction('Complex_I')\n",
    "Complex_I.name='NADH dehydrogenase'\n",
    "Complex_I.lower_bound=0\n",
    "Complex_I.upper_bound=1000"
   ]
  },
  {
   "cell_type": "code",
   "execution_count": 111,
   "metadata": {},
   "outputs": [],
   "source": [
    "Q=Metabolite(\n",
    "    'Q',\n",
    "    name= \"ubiquinone\",\n",
    "    formula=\"C59H90O4\",\n",
    "    compartment='c')\n",
    "\n",
    "QH2=Metabolite(\n",
    "    'QH2',\n",
    "    name= \"ubiquinol\",\n",
    "    formula=\"C59H92O4\",\n",
    "    compartment='c') "
   ]
  },
  {
   "cell_type": "code",
   "execution_count": 112,
   "metadata": {},
   "outputs": [],
   "source": [
    "Complex_I.add_metabolites({Q:-1,H:-5,NADH:-1,QH2:1,H:4,NAD:1})"
   ]
  },
  {
   "cell_type": "markdown",
   "metadata": {},
   "source": [
    "## Succinate + Q → Furmarate  + QH2"
   ]
  },
  {
   "cell_type": "code",
   "execution_count": 113,
   "metadata": {},
   "outputs": [],
   "source": [
    "Complex_II=Reaction('Complex_II')\n",
    "Complex_II.name='Succinate-Q oxidoreductase'\n",
    "Complex_II.lower_bound=0\n",
    "Complex_II.upper_bound=1000"
   ]
  },
  {
   "cell_type": "code",
   "execution_count": 114,
   "metadata": {},
   "outputs": [],
   "source": [
    "Complex_II.add_metabolites({Q:-1,Succinate:-1,QH2:1,Fumarate:1})"
   ]
  },
  {
   "cell_type": "markdown",
   "metadata": {},
   "source": [
    "## QH2 + 2Fe(+3)  → Q + 2Fe(+2) + 2H"
   ]
  },
  {
   "cell_type": "code",
   "execution_count": 115,
   "metadata": {},
   "outputs": [],
   "source": [
    "Complex_III=Reaction('Complex_III')\n",
    "Complex_III.name='Q-cytochrome c oxidoreductase'\n",
    "Complex_III.lower_bound=0\n",
    "Complex_III.upper_bound=1000"
   ]
  },
  {
   "cell_type": "code",
   "execution_count": 116,
   "metadata": {},
   "outputs": [],
   "source": [
    "FE2=Metabolite(\n",
    "    'Fe+2',\n",
    "    name= \"Fe++\",\n",
    "    formula=\"Fe\",\n",
    "    compartment='c')\n",
    "\n",
    "FE3=Metabolite(\n",
    "    'Fe+3',\n",
    "    name= \"Fe+++\",\n",
    "    formula=\"Fe\",\n",
    "    compartment='c')"
   ]
  },
  {
   "cell_type": "markdown",
   "metadata": {},
   "source": [
    "## 4Fe(+2) + 8H + O2 → 4Fe(+3) + 4H + 2H2O"
   ]
  },
  {
   "cell_type": "code",
   "execution_count": 117,
   "metadata": {},
   "outputs": [],
   "source": [
    "Complex_III.add_metabolites({QH2:-1,FE3:-2,FE2:2,Q:1,H:2})"
   ]
  },
  {
   "cell_type": "code",
   "execution_count": 118,
   "metadata": {},
   "outputs": [],
   "source": [
    "Complex_IV=Reaction('Complex_IV')\n",
    "Complex_IV.name='Cytochrome c oxidase'\n",
    "Complex_IV.lower_bound=0\n",
    "Complex_IV.upper_bound=1000"
   ]
  },
  {
   "cell_type": "code",
   "execution_count": 119,
   "metadata": {},
   "outputs": [],
   "source": [
    "O2=Metabolite(\n",
    "'O2',\n",
    "name= \"Oxgen\",\n",
    "formula=\"O2\",\n",
    "compartment='c')\n"
   ]
  },
  {
   "cell_type": "code",
   "execution_count": 120,
   "metadata": {},
   "outputs": [],
   "source": [
    "Complex_IV.add_metabolites({FE2:-4,H:-8,O2:-1,FE3:4,H:4,H2O:2})"
   ]
  },
  {
   "cell_type": "markdown",
   "metadata": {},
   "source": [
    "## ATP + 4H + H2O↔ ADP + 5H + P"
   ]
  },
  {
   "cell_type": "code",
   "execution_count": 121,
   "metadata": {},
   "outputs": [],
   "source": [
    "Complex_V=Reaction('Complex_V')\n",
    "Complex_V.name='ATP synthase'\n",
    "Complex_V.lower_bound=-1000\n",
    "Complex_V.upper_bound=1000"
   ]
  },
  {
   "cell_type": "code",
   "execution_count": 122,
   "metadata": {},
   "outputs": [],
   "source": [
    "Complex_V.add_metabolites({ATP:-1,H:-4,H2O:-1,ADP:1,H:5,PI:1})"
   ]
  },
  {
   "cell_type": "markdown",
   "metadata": {},
   "source": [
    "## diphosphate + H2O → H+ + 2 Pi"
   ]
  },
  {
   "cell_type": "code",
   "execution_count": 123,
   "metadata": {},
   "outputs": [],
   "source": [
    "Inorganic_diphosphatase=Reaction('Inorganic_diphosphatase')\n",
    "Inorganic_diphosphatase.name='Inorganic diphosphatase'\n",
    "Inorganic_diphosphatase.lower_bound=0\n",
    "Inorganic_diphosphatase.upper_bound=1000"
   ]
  },
  {
   "cell_type": "code",
   "execution_count": 124,
   "metadata": {},
   "outputs": [],
   "source": [
    "diphosphate=Metabolite(\n",
    "    'diphosphate',\n",
    "    name= \"diphosphate\",\n",
    "    formula=\"P2O7H\",\n",
    "    compartment='c')"
   ]
  },
  {
   "cell_type": "code",
   "execution_count": 125,
   "metadata": {},
   "outputs": [],
   "source": [
    "Inorganic_diphosphatase.add_metabolites({diphosphate:-1,H2O:-1,H:1,PI:2})"
   ]
  },
  {
   "cell_type": "markdown",
   "metadata": {},
   "source": [
    "## Pi + ATP ↔2Pi + ADP"
   ]
  },
  {
   "cell_type": "code",
   "execution_count": 126,
   "metadata": {},
   "outputs": [],
   "source": [
    "APP=Reaction('APP')\n",
    "APP.name='ATP-polyphosphate phosphotransferase'\n",
    "APP.lower_bound=-1000\n",
    "APP.upper_bound=1000"
   ]
  },
  {
   "cell_type": "code",
   "execution_count": 127,
   "metadata": {},
   "outputs": [],
   "source": [
    "APP.add_metabolites({PI:-1,ATP:-1,ADP:1,PI:2})"
   ]
  },
  {
   "cell_type": "markdown",
   "metadata": {},
   "source": [
    "# Glutamine Metabolism "
   ]
  },
  {
   "cell_type": "markdown",
   "metadata": {},
   "source": [
    "## glu + ATP + nh4 → gln + ADP + PI + H+"
   ]
  },
  {
   "cell_type": "code",
   "execution_count": 128,
   "metadata": {},
   "outputs": [],
   "source": [
    "GLNS=Reaction('GLNS')\n",
    "GLNS.name='Glutamine synthetase'\n",
    "GLNS.lower_bound=0\n",
    "GLNS.upper_bound=1000"
   ]
  },
  {
   "cell_type": "code",
   "execution_count": 129,
   "metadata": {},
   "outputs": [],
   "source": [
    "gln=Metabolite(\n",
    "    'gln',\n",
    "    formula='C5H10N2O3',\n",
    "    name='L-Glutamine',\n",
    "    compartment='c')\n",
    "glu=Metabolite(\n",
    "    'glu',\n",
    "    formula='C5H8NO4',\n",
    "    name='L-Glutamate',\n",
    "    compartment='c')\n",
    "nh4=Metabolite(\n",
    "    'nh4',\n",
    "    formula='H4N',\n",
    "    name='Ammonium',\n",
    "    compartment='c')"
   ]
  },
  {
   "cell_type": "code",
   "execution_count": 130,
   "metadata": {},
   "outputs": [],
   "source": [
    "GLNS.add_metabolites({ADP:1.0,ATP:-1.0,gln:1.0,glu:-1.0,H:1.0,nh4:-1.0,PI:1.0})"
   ]
  },
  {
   "cell_type": "markdown",
   "metadata": {},
   "source": [
    "## glu + H2O + NADP ↔ α_Ketoglutarate + NADPH + nh4 + H+"
   ]
  },
  {
   "cell_type": "code",
   "execution_count": 131,
   "metadata": {},
   "outputs": [],
   "source": [
    "GLUDy=Reaction('GLUDy')\n",
    "GLUDy.name='Glutamate dehydrogenase (NADP)'\n",
    "GLUDy.lower_bound=-1000\n",
    "GLUDy.upper_bound=1000\n"
   ]
  },
  {
   "cell_type": "code",
   "execution_count": 132,
   "metadata": {},
   "outputs": [],
   "source": [
    "GLUDy.add_metabolites({α_Ketoglutarate:1.0,glu:-1.0,H2O:-1.0,H:1.0,NADP:-1.0,NADPH:1.0,nh4:1.0})\n"
   ]
  },
  {
   "cell_type": "markdown",
   "metadata": {},
   "source": [
    "## gln + H2O → glu + nh4"
   ]
  },
  {
   "cell_type": "code",
   "execution_count": 133,
   "metadata": {},
   "outputs": [],
   "source": [
    "GLUN=Reaction('GLUN')\n",
    "GLUN.name='Glutaminase'\n",
    "GLUN.lower_bound=0\n",
    "GLUN.upper_bound=1000"
   ]
  },
  {
   "cell_type": "code",
   "execution_count": 134,
   "metadata": {},
   "outputs": [],
   "source": [
    "GLUN.add_metabolites({gln:-1.0,H2O:-1.0,glu:1.0,nh4:1.0})\n"
   ]
  },
  {
   "cell_type": "markdown",
   "metadata": {},
   "source": [
    "## α_Ketoglutarate + gln + H + NADH → glu + NADP"
   ]
  },
  {
   "cell_type": "code",
   "execution_count": 135,
   "metadata": {},
   "outputs": [],
   "source": [
    "GLUSy=Reaction('GLUSy')\n",
    "GLUSy.name='Glutamate synthase (NADPH)'\n",
    "GLUSy.lower_bound=0\n",
    "GLUSy.upper_bound=1000"
   ]
  },
  {
   "cell_type": "code",
   "execution_count": 136,
   "metadata": {},
   "outputs": [],
   "source": [
    "GLUSy.add_metabolites({α_Ketoglutarate:-1.0,gln:-1.0,glu:2.0,H:-1.0,NADP:1.0,NADH:-1.0})\n"
   ]
  },
  {
   "cell_type": "markdown",
   "metadata": {},
   "source": [
    "# ↔ glu + H"
   ]
  },
  {
   "cell_type": "code",
   "execution_count": 137,
   "metadata": {},
   "outputs": [],
   "source": [
    "GLUt2r=Reaction('GLUt2r')\n",
    "GLUt2r.name='L glutamate transport via proton symport  reversible'\n",
    "GLUt2r.lower_bound=-1000\n",
    "GLUt2r.upper_bound=1000"
   ]
  },
  {
   "cell_type": "code",
   "execution_count": 138,
   "metadata": {},
   "outputs": [],
   "source": [
    "GLUt2r.add_metabolites({glu:1.0,H:1.0})"
   ]
  },
  {
   "cell_type": "markdown",
   "metadata": {},
   "source": [
    "# ATP + H2O → gln+ ADP + PI + H"
   ]
  },
  {
   "cell_type": "code",
   "execution_count": 139,
   "metadata": {},
   "outputs": [],
   "source": [
    "GLNabc=Reaction('GLNabc')\n",
    "GLNabc.name='L-glutamine transport via ABC system'\n",
    "GLNabc.lower_bound=0\n",
    "GLNabc.upper_bound=1000"
   ]
  },
  {
   "cell_type": "code",
   "execution_count": 140,
   "metadata": {},
   "outputs": [],
   "source": [
    "GLNabc.add_metabolites({ADP:1.0,ATP:-1.0,gln:1.0,H2O:-1.0,H:1.0,PI:1.0})"
   ]
  },
  {
   "cell_type": "markdown",
   "metadata": {},
   "source": [
    "# Extracellular Exchange"
   ]
  },
  {
   "cell_type": "markdown",
   "metadata": {},
   "source": [
    "## ( PYR Pyruvate exchange ) PYR ↔"
   ]
  },
  {
   "cell_type": "code",
   "execution_count": 141,
   "metadata": {},
   "outputs": [],
   "source": [
    "PYRexchange=Reaction(\"PYRexchange\")\n",
    "PYRexchange.name='PYRexchange'\n",
    "PYRexchange.lower_bound=-1000\n",
    "PYRexchange.upper_bound=1000"
   ]
  },
  {
   "cell_type": "code",
   "execution_count": 142,
   "metadata": {},
   "outputs": [],
   "source": [
    "PYRexchange.add_metabolites({PYR:-1})"
   ]
  },
  {
   "cell_type": "markdown",
   "metadata": {},
   "source": [
    "## ( LAC Lactate exchange ) LAC ↔"
   ]
  },
  {
   "cell_type": "code",
   "execution_count": 143,
   "metadata": {},
   "outputs": [],
   "source": [
    "LACexchange=Reaction(\"LACexchange\")\n",
    "LACexchange.name='LACexchange'\n",
    "LACexchange.lower_bound=-1000\n",
    "LACexchange.upper_bound=1000"
   ]
  },
  {
   "cell_type": "code",
   "execution_count": 144,
   "metadata": {},
   "outputs": [],
   "source": [
    "LACexchange.add_metabolites({LAC:-1})"
   ]
  },
  {
   "cell_type": "markdown",
   "metadata": {},
   "source": [
    "## ( H Proton exchange ) H+ ↔"
   ]
  },
  {
   "cell_type": "code",
   "execution_count": 145,
   "metadata": {},
   "outputs": [],
   "source": [
    "Proton_exchange=Reaction(\"Proton_exchange\")\n",
    "Proton_exchange.name='Proton_exchange'\n",
    "Proton_exchange.lower_bound=-1000\n",
    "Proton_exchange.upper_bound=1000"
   ]
  },
  {
   "cell_type": "code",
   "execution_count": 146,
   "metadata": {},
   "outputs": [],
   "source": [
    "Proton_exchange.add_metabolites({H:-1})"
   ]
  },
  {
   "cell_type": "markdown",
   "metadata": {},
   "source": [
    "## ( H2O Water exchange )  H2O ↔"
   ]
  },
  {
   "cell_type": "code",
   "execution_count": 147,
   "metadata": {},
   "outputs": [],
   "source": [
    "water_exchange=Reaction(\"water_exchange\")\n",
    "water_exchange.name='water_exchange'\n",
    "water_exchange.lower_bound=-1000\n",
    "water_exchange.upper_bound=1000"
   ]
  },
  {
   "cell_type": "code",
   "execution_count": 148,
   "metadata": {},
   "outputs": [],
   "source": [
    "water_exchange.add_metabolites({H2O:-1})"
   ]
  },
  {
   "cell_type": "markdown",
   "metadata": {},
   "source": [
    "## ( CO2 exchange ) CO2↔"
   ]
  },
  {
   "cell_type": "code",
   "execution_count": 149,
   "metadata": {},
   "outputs": [],
   "source": [
    "CO2_Exchange=Reaction(\"CO2_Exchange\")\n",
    "CO2_Exchange.name='CO2_Exchange'\n",
    "CO2_Exchange.lower_bound=0\n",
    "CO2_Exchange.upper_bound=1000"
   ]
  },
  {
   "cell_type": "code",
   "execution_count": 150,
   "metadata": {},
   "outputs": [],
   "source": [
    "CO2_Exchange.add_metabolites({CO2:-1})"
   ]
  },
  {
   "cell_type": "markdown",
   "metadata": {},
   "source": [
    "# (Acetate Exchange) AC↔ "
   ]
  },
  {
   "cell_type": "code",
   "execution_count": 151,
   "metadata": {},
   "outputs": [],
   "source": [
    "Acetate_exchange=Reaction('Acetate_exchange')\n",
    "Acetate_exchange.name='Acetate exchange'\n",
    "Acetate_exchange.lower_bound=0\n",
    "Acetate_exchange.upper_bound=1000"
   ]
  },
  {
   "cell_type": "code",
   "execution_count": 152,
   "metadata": {},
   "outputs": [],
   "source": [
    "Acetate_exchange.add_metabolites({ac:-1})"
   ]
  },
  {
   "cell_type": "markdown",
   "metadata": {},
   "source": [
    "## (α_Ketoglutarate_exchange) α_Ketoglutarate↔"
   ]
  },
  {
   "cell_type": "code",
   "execution_count": 153,
   "metadata": {},
   "outputs": [],
   "source": [
    "α_Ketoglutarate_exchange=Reaction('α_Ketoglutarate_exchange')\n",
    "α_Ketoglutarate_exchange.name='α_Ketoglutarate_exchange'\n",
    "α_Ketoglutarate_exchange.lower_bound=0\n",
    "α_Ketoglutarate_exchange.upper_bound=1000"
   ]
  },
  {
   "cell_type": "code",
   "execution_count": 154,
   "metadata": {},
   "outputs": [],
   "source": [
    "α_Ketoglutarate_exchange.add_metabolites({α_Ketoglutarate:-1})"
   ]
  },
  {
   "cell_type": "markdown",
   "metadata": {},
   "source": [
    "## (Fumarate exchange) Fumarate↔"
   ]
  },
  {
   "cell_type": "code",
   "execution_count": 155,
   "metadata": {},
   "outputs": [],
   "source": [
    "Fumarate_exchange=Reaction('Fumarate_exchange')\n",
    "Fumarate_exchange.name='Fumarate_exchange'\n",
    "Fumarate_exchange.lower_bound=0\n",
    "Fumarate_exchange.upper_bound=1000"
   ]
  },
  {
   "cell_type": "code",
   "execution_count": 156,
   "metadata": {},
   "outputs": [],
   "source": [
    "Fumarate_exchange.add_metabolites({Fumarate:-1})"
   ]
  },
  {
   "cell_type": "markdown",
   "metadata": {},
   "source": [
    "## (Glucose exchange)GLUc↔"
   ]
  },
  {
   "cell_type": "code",
   "execution_count": 157,
   "metadata": {},
   "outputs": [],
   "source": [
    "Glucose_exchange=Reaction('Glucose_exchange')\n",
    "Glucose_exchange.name='Glucose_exchange'\n",
    "Glucose_exchange.lower_bound=0\n",
    "Glucose_exchange.upper_bound=1000"
   ]
  },
  {
   "cell_type": "code",
   "execution_count": 158,
   "metadata": {},
   "outputs": [],
   "source": [
    "Glucose_exchange.add_metabolites({GLUc:-1})"
   ]
  },
  {
   "cell_type": "markdown",
   "metadata": {},
   "source": [
    "## (L_Glutamate exchange) glu↔"
   ]
  },
  {
   "cell_type": "code",
   "execution_count": 159,
   "metadata": {},
   "outputs": [],
   "source": [
    "L_Glutamate_exchange=Reaction('L_Glutamate_exchange')\n",
    "L_Glutamate_exchange.name='L_Glutamate_exchange'\n",
    "L_Glutamate_exchange.lower_bound=0\n",
    "L_Glutamate_exchange.upper_bound=1000"
   ]
  },
  {
   "cell_type": "code",
   "execution_count": 160,
   "metadata": {},
   "outputs": [],
   "source": [
    "L_Glutamate_exchange.add_metabolites({glu:-1})"
   ]
  },
  {
   "cell_type": "markdown",
   "metadata": {},
   "source": [
    "## (L_Glutamine exchange) gln↔"
   ]
  },
  {
   "cell_type": "code",
   "execution_count": 161,
   "metadata": {},
   "outputs": [],
   "source": [
    "L_Glutamine_exchange=Reaction('L_Glutamine_exchange')\n",
    "L_Glutamine_exchange.name='L_Glutamine_exchange'\n",
    "L_Glutamine_exchange.lower_bound=0\n",
    "L_Glutamine_exchange.upper_bound=1000"
   ]
  },
  {
   "cell_type": "code",
   "execution_count": 162,
   "metadata": {},
   "outputs": [],
   "source": [
    "L_Glutamine_exchange.add_metabolites({gln:-1})"
   ]
  },
  {
   "cell_type": "markdown",
   "metadata": {},
   "source": [
    "## (L_Malate exchange) L_Malate↔"
   ]
  },
  {
   "cell_type": "code",
   "execution_count": 163,
   "metadata": {},
   "outputs": [],
   "source": [
    "L_Malate_exchange=Reaction('L_Malate_exchange')\n",
    "L_Malate_exchange.name='L_Malate_exchange'\n",
    "L_Malate_exchange.lower_bound=0\n",
    "L_Malate_exchange.upper_bound=1000"
   ]
  },
  {
   "cell_type": "code",
   "execution_count": 164,
   "metadata": {},
   "outputs": [],
   "source": [
    "L_Malate_exchange.add_metabolites({L_Malate:-1})"
   ]
  },
  {
   "cell_type": "markdown",
   "metadata": {},
   "source": [
    "## (O2 exchange) O2↔"
   ]
  },
  {
   "cell_type": "code",
   "execution_count": 165,
   "metadata": {},
   "outputs": [],
   "source": [
    "O2_exchange=Reaction('O2_exchange')\n",
    "O2_exchange.name='O2_exchange'\n",
    "O2_exchange.lower_bound=-1000\n",
    "O2_exchange.upper_bound=1000"
   ]
  },
  {
   "cell_type": "code",
   "execution_count": 166,
   "metadata": {},
   "outputs": [],
   "source": [
    "O2_exchange.add_metabolites({O2:-1})"
   ]
  },
  {
   "cell_type": "markdown",
   "metadata": {},
   "source": [
    "## (nh4 exchange) nh4↔"
   ]
  },
  {
   "cell_type": "code",
   "execution_count": 167,
   "metadata": {},
   "outputs": [],
   "source": [
    "nh4_exchange=Reaction('Ammonia_exchange')\n",
    "nh4_exchange.name='Ammonia_exchange'\n",
    "nh4_exchange.lower_bound=-1000\n",
    "nh4_exchange.upper_bound=1000"
   ]
  },
  {
   "cell_type": "code",
   "execution_count": 168,
   "metadata": {},
   "outputs": [],
   "source": [
    "nh4_exchange.add_metabolites({nh4:-1})"
   ]
  },
  {
   "cell_type": "markdown",
   "metadata": {},
   "source": [
    "## (phosphate exchange) PI↔"
   ]
  },
  {
   "cell_type": "code",
   "execution_count": 169,
   "metadata": {},
   "outputs": [],
   "source": [
    "phosphate_exchange=Reaction('phosphate_exchange')\n",
    "phosphate_exchange.name='phosphate_exchange'\n",
    "phosphate_exchange.lower_bound=-1000\n",
    "phosphate_exchange.upper_bound=1000"
   ]
  },
  {
   "cell_type": "code",
   "execution_count": 170,
   "metadata": {},
   "outputs": [],
   "source": [
    "phosphate_exchange.add_metabolites({PI:-1})"
   ]
  },
  {
   "cell_type": "markdown",
   "metadata": {},
   "source": [
    "## (Succinate exchange) Succinate↔"
   ]
  },
  {
   "cell_type": "code",
   "execution_count": 171,
   "metadata": {},
   "outputs": [],
   "source": [
    "Succinate_exchange=Reaction('Succinate_exchange')\n",
    "Succinate_exchange.name='Succinate_exchange'\n",
    "Succinate_exchange.lower_bound=0\n",
    "Succinate_exchange.upper_bound=1000"
   ]
  },
  {
   "cell_type": "code",
   "execution_count": 172,
   "metadata": {},
   "outputs": [],
   "source": [
    "Succinate_exchange.add_metabolites({Succinate:-1})"
   ]
  },
  {
   "cell_type": "markdown",
   "metadata": {},
   "source": [
    "# Biomass Equation"
   ]
  },
  {
   "cell_type": "code",
   "execution_count": 173,
   "metadata": {},
   "outputs": [],
   "source": [
    "Biomass=Reaction('Biomass')\n",
    "Biomass.name='Biomass Objective Function with GAM'\n",
    "Biomass.lower_bound=0\n",
    "Biomass.upper_bound=1000\n"
   ]
  },
  {
   "cell_type": "code",
   "execution_count": 174,
   "metadata": {},
   "outputs": [],
   "source": [
    "Biomass.add_metabolites({PG3:-1.496,ATP:-59.81,E4P:-0.361,Acetyl_CoA:-3.7478,\n",
    "F6P:-0.0709,GAP:-0.129,G6P:-0.205,H2O:-59.81,Oxaloacetate:-1.7867,PYR:-2.8328,\n",
    "PEP:-0.5191,R5P:-0.8977,NAD:-3.547,NADPH:-13.0279,glu:-4.9414,\n",
    "gln:-0.2557,CoA:3.7478,ADP:59.81,PI:59.81,α_Ketoglutarate:4.1182,NADP:13.0279,NADH:3.547,\n",
    "H:59.81})"
   ]
  },
  {
   "cell_type": "markdown",
   "metadata": {},
   "source": [
    "# Add Metabolic pathways reactions to Model"
   ]
  },
  {
   "cell_type": "code",
   "execution_count": 175,
   "metadata": {},
   "outputs": [],
   "source": [
    "Pathways.add_reactions([GLUin,AMPin,HK,PGI,PFK,TPI,ALD,GAPDH,PGK,PGLM,ENO,PK,LDH,\n",
    "AMPout,APK,PYRexchange,LACexchange,ATPhydrolysis, NADHoxidation,Proton_exchange,\n",
    "water_exchange,G6PDH,PGLase,GL6PHD,R5PE,R5PI,TKI,TKII,TALA,GSSGR,GSHR,\n",
    "CO2_Exchange,Pyruvate_dehydrogenase_complex,ACK,PTAr,Citrate_synthase,Aconitase,\n",
    "Isocitrate_dehydrogenase,α_Ketoglutarate_dehydrogenase,Succinyl_CoA_synthetase,\n",
    "Succinate_dehydrogenase,Fumarase, Malate_dehydrogenase,Complex_I,Complex_II,\n",
    "Complex_III,Complex_IV,Complex_V,Inorganic_diphosphatase,APP,GLNS,GLUDy,GLUN,\n",
    "GLUSy,GLUt2r,GLNabc,Acetate_exchange,α_Ketoglutarate_exchange,Fumarate_exchange,\n",
    "Glucose_exchange, L_Glutamate_exchange,L_Glutamine_exchange,L_Malate_exchange,O2_exchange,nh4_exchange,phosphate_exchange,\n",
    " Succinate_exchange,Biomass])"
   ]
  },
  {
   "cell_type": "code",
   "execution_count": 176,
   "metadata": {},
   "outputs": [],
   "source": [
    "Pathways.objective='Biomass'"
   ]
  },
  {
   "cell_type": "code",
   "execution_count": 177,
   "metadata": {},
   "outputs": [
    {
     "data": {
      "text/html": [
       "<strong><em>Optimal</em> solution with objective value 0.428</strong><br><div>\n",
       "<style scoped>\n",
       "    .dataframe tbody tr th:only-of-type {\n",
       "        vertical-align: middle;\n",
       "    }\n",
       "\n",
       "    .dataframe tbody tr th {\n",
       "        vertical-align: top;\n",
       "    }\n",
       "\n",
       "    .dataframe thead th {\n",
       "        text-align: right;\n",
       "    }\n",
       "</style>\n",
       "<table border=\"1\" class=\"dataframe\">\n",
       "  <thead>\n",
       "    <tr style=\"text-align: right;\">\n",
       "      <th></th>\n",
       "      <th>fluxes</th>\n",
       "      <th>reduced_costs</th>\n",
       "    </tr>\n",
       "  </thead>\n",
       "  <tbody>\n",
       "    <tr>\n",
       "      <th>GLUin</th>\n",
       "      <td>1.000000</td>\n",
       "      <td>8.559079e-01</td>\n",
       "    </tr>\n",
       "    <tr>\n",
       "      <th>AMPin</th>\n",
       "      <td>1.000000</td>\n",
       "      <td>0.000000e+00</td>\n",
       "    </tr>\n",
       "    <tr>\n",
       "      <th>HK</th>\n",
       "      <td>1.000000</td>\n",
       "      <td>0.000000e+00</td>\n",
       "    </tr>\n",
       "    <tr>\n",
       "      <th>PGI</th>\n",
       "      <td>0.912269</td>\n",
       "      <td>1.110223e-16</td>\n",
       "    </tr>\n",
       "    <tr>\n",
       "      <th>PFK</th>\n",
       "      <td>0.574314</td>\n",
       "      <td>-1.110223e-16</td>\n",
       "    </tr>\n",
       "    <tr>\n",
       "      <th>...</th>\n",
       "      <td>...</td>\n",
       "      <td>...</td>\n",
       "    </tr>\n",
       "    <tr>\n",
       "      <th>O2_exchange</th>\n",
       "      <td>-3.769413</td>\n",
       "      <td>-1.110223e-16</td>\n",
       "    </tr>\n",
       "    <tr>\n",
       "      <th>Ammonia_exchange</th>\n",
       "      <td>1.925097</td>\n",
       "      <td>-3.469447e-17</td>\n",
       "    </tr>\n",
       "    <tr>\n",
       "      <th>phosphate_exchange</th>\n",
       "      <td>-5.854464</td>\n",
       "      <td>4.038740e-17</td>\n",
       "    </tr>\n",
       "    <tr>\n",
       "      <th>Succinate_exchange</th>\n",
       "      <td>3.032300</td>\n",
       "      <td>-1.109170e-16</td>\n",
       "    </tr>\n",
       "    <tr>\n",
       "      <th>Biomass</th>\n",
       "      <td>0.427954</td>\n",
       "      <td>2.841061e-15</td>\n",
       "    </tr>\n",
       "  </tbody>\n",
       "</table>\n",
       "<p>68 rows × 2 columns</p>\n",
       "</div>"
      ],
      "text/plain": [
       "<Solution 0.428 at 0x262b1a080d0>"
      ]
     },
     "execution_count": 177,
     "metadata": {},
     "output_type": "execute_result"
    }
   ],
   "source": [
    "Pathways.optimize()"
   ]
  },
  {
   "cell_type": "code",
   "execution_count": 178,
   "metadata": {
    "scrolled": false
   },
   "outputs": [
    {
     "data": {
      "text/html": [
       "<h3>Objective</h3><p>1.0 Biomass = 0.4279539521547489</p><h4>Uptake</h4><table border=\"1\" class=\"dataframe\">\n",
       "  <thead>\n",
       "    <tr style=\"text-align: right;\">\n",
       "      <th>Metabolite</th>\n",
       "      <th>Reaction</th>\n",
       "      <th>Flux</th>\n",
       "      <th>C-Number</th>\n",
       "      <th>C-Flux</th>\n",
       "    </tr>\n",
       "  </thead>\n",
       "  <tbody>\n",
       "    <tr>\n",
       "      <td>AMP</td>\n",
       "      <td>AMPin</td>\n",
       "      <td>1</td>\n",
       "      <td>10</td>\n",
       "      <td>43.15%</td>\n",
       "    </tr>\n",
       "    <tr>\n",
       "      <td>GLUc</td>\n",
       "      <td>GLUin</td>\n",
       "      <td>1</td>\n",
       "      <td>6</td>\n",
       "      <td>25.89%</td>\n",
       "    </tr>\n",
       "    <tr>\n",
       "      <td>LAC</td>\n",
       "      <td>LACexchange</td>\n",
       "      <td>2.391</td>\n",
       "      <td>3</td>\n",
       "      <td>30.96%</td>\n",
       "    </tr>\n",
       "    <tr>\n",
       "      <td>O2</td>\n",
       "      <td>O2_exchange</td>\n",
       "      <td>3.826</td>\n",
       "      <td>0</td>\n",
       "      <td>0.00%</td>\n",
       "    </tr>\n",
       "    <tr>\n",
       "      <td>PI</td>\n",
       "      <td>phosphate_exchange</td>\n",
       "      <td>8.799</td>\n",
       "      <td>0</td>\n",
       "      <td>0.00%</td>\n",
       "    </tr>\n",
       "  </tbody>\n",
       "</table><h4>Secretion</h4><table border=\"1\" class=\"dataframe\">\n",
       "  <thead>\n",
       "    <tr style=\"text-align: right;\">\n",
       "      <th>Metabolite</th>\n",
       "      <th>Reaction</th>\n",
       "      <th>Flux</th>\n",
       "      <th>C-Number</th>\n",
       "      <th>C-Flux</th>\n",
       "    </tr>\n",
       "  </thead>\n",
       "  <tbody>\n",
       "    <tr>\n",
       "      <td>AMP</td>\n",
       "      <td>AMPout</td>\n",
       "      <td>-1</td>\n",
       "      <td>10</td>\n",
       "      <td>60.13%</td>\n",
       "    </tr>\n",
       "    <tr>\n",
       "      <td>CO2</td>\n",
       "      <td>CO2_Exchange</td>\n",
       "      <td>-2.201</td>\n",
       "      <td>1</td>\n",
       "      <td>13.24%</td>\n",
       "    </tr>\n",
       "    <tr>\n",
       "      <td>Succinate</td>\n",
       "      <td>Succinate_exchange</td>\n",
       "      <td>-1.107</td>\n",
       "      <td>4</td>\n",
       "      <td>26.63%</td>\n",
       "    </tr>\n",
       "  </tbody>\n",
       "</table>"
      ],
      "text/plain": [
       "<cobra.summary.model_summary.ModelSummary at 0x262b1a3f4f0>"
      ]
     },
     "execution_count": 178,
     "metadata": {},
     "output_type": "execute_result"
    }
   ],
   "source": [
    "Pathways.summary()"
   ]
  },
  {
   "cell_type": "code",
   "execution_count": 179,
   "metadata": {},
   "outputs": [],
   "source": [
    "import escher"
   ]
  },
  {
   "cell_type": "code",
   "execution_count": 180,
   "metadata": {},
   "outputs": [],
   "source": [
    "from escher import Builder"
   ]
  },
  {
   "cell_type": "code",
   "execution_count": 181,
   "metadata": {},
   "outputs": [],
   "source": [
    "cobra.io.save_json_model(Pathways,\"Pathways.json\")"
   ]
  },
  {
   "cell_type": "code",
   "execution_count": 182,
   "metadata": {},
   "outputs": [],
   "source": [
    "Pathways_builder = Builder(model_json=\"Pathways.json\")"
   ]
  },
  {
   "cell_type": "code",
   "execution_count": 183,
   "metadata": {},
   "outputs": [],
   "source": [
    "Pathways_builder.reaction_data=Pathways.optimize().fluxes"
   ]
  },
  {
   "cell_type": "code",
   "execution_count": 184,
   "metadata": {},
   "outputs": [
    {
     "data": {
      "application/vnd.jupyter.widget-view+json": {
       "model_id": "8752d1568ce54d67b5497d686073e832",
       "version_major": 2,
       "version_minor": 0
      },
      "text/plain": [
       "Builder(reaction_data={'GLUin': 1.0, 'AMPin': 1.0, 'HK': 0.9999999999999999, 'PGI': 0.9122694398082767, 'PFK':…"
      ]
     },
     "metadata": {},
     "output_type": "display_data"
    }
   ],
   "source": [
    "Pathways_builder"
   ]
  },
  {
   "cell_type": "code",
   "execution_count": null,
   "metadata": {},
   "outputs": [],
   "source": [
    "\n"
   ]
  },
  {
   "cell_type": "markdown",
   "metadata": {},
   "source": [
    "\n",
    "# \n"
   ]
  }
 ],
 "metadata": {
  "kernelspec": {
   "display_name": "Python 3",
   "language": "python",
   "name": "python3"
  },
  "language_info": {
   "codemirror_mode": {
    "name": "ipython",
    "version": 3
   },
   "file_extension": ".py",
   "mimetype": "text/x-python",
   "name": "python",
   "nbconvert_exporter": "python",
   "pygments_lexer": "ipython3",
   "version": "3.8.5"
  }
 },
 "nbformat": 4,
 "nbformat_minor": 5
}
